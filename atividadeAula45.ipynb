{
 "cells": [
  {
   "cell_type": "code",
   "execution_count": 38,
   "metadata": {},
   "outputs": [
    {
     "name": "stdout",
     "output_type": "stream",
     "text": [
      "      Nome  Idade          Cidade  Salário\n",
      "0     João   28.0       São Paulo   3500.0\n",
      "1    Maria    NaN  Rio de Janeiro   4500.0\n",
      "2     José   35.0             NaN      NaN\n",
      "3      Ana   22.0        Salvador   5000.0\n",
      "4    Pedro    NaN    Porto Alegre   4800.0\n",
      "5      Ana   22.0        Salvador   5000.0\n",
      "6  Jessica   20.0      são paulo    3410.0\n",
      "7   Carlos   35.0    porto alegre   2500.0\n"
     ]
    }
   ],
   "source": [
    "#1. Exercício: Carregar um arquivo e exibir as primeiras 5 linhas.\n",
    "import pandas as pd\n",
    "\n",
    "# 1. Carregar os  dados do arquivo\n",
    "df = pd.read_excel('dados_ausentes.xlsx')\n",
    "print(df)"
   ]
  },
  {
   "cell_type": "code",
   "execution_count": 39,
   "metadata": {},
   "outputs": [
    {
     "name": "stdout",
     "output_type": "stream",
     "text": [
      "    Nome  Idade  Cidade  Salário\n",
      "0  False  False   False    False\n",
      "1  False   True   False    False\n",
      "2  False  False    True     True\n",
      "3  False  False   False    False\n",
      "4  False   True   False    False\n",
      "5  False  False   False    False\n",
      "6  False  False   False    False\n",
      "7  False  False   False    False\n"
     ]
    }
   ],
   "source": [
    "#2. Exercício: Verificar se há valores NaN nas colunas do DataFrame.\n",
    "print(df.isnull())"
   ]
  },
  {
   "cell_type": "code",
   "execution_count": 40,
   "metadata": {},
   "outputs": [
    {
     "name": "stdout",
     "output_type": "stream",
     "text": [
      "      Nome  Idade          Cidade  Salário\n",
      "0     João   28.0       São Paulo   3500.0\n",
      "1    Maria    NaN  Rio de Janeiro   4500.0\n",
      "2     José   35.0             NaN      0.0\n",
      "3      Ana   22.0        Salvador   5000.0\n",
      "4    Pedro    NaN    Porto Alegre   4800.0\n",
      "5      Ana   22.0        Salvador   5000.0\n",
      "6  Jessica   20.0      são paulo    3410.0\n",
      "7   Carlos   35.0    porto alegre   2500.0\n"
     ]
    },
    {
     "name": "stderr",
     "output_type": "stream",
     "text": [
      "C:\\Users\\45014141897\\AppData\\Local\\Temp\\ipykernel_23368\\2550286830.py:2: FutureWarning: A value is trying to be set on a copy of a DataFrame or Series through chained assignment using an inplace method.\n",
      "The behavior will change in pandas 3.0. This inplace method will never work because the intermediate object on which we are setting values always behaves as a copy.\n",
      "\n",
      "For example, when doing 'df[col].method(value, inplace=True)', try using 'df.method({col: value}, inplace=True)' or df[col] = df[col].method(value) instead, to perform the operation inplace on the original object.\n",
      "\n",
      "\n",
      "  df['Salário'].fillna(0,inplace=True)\n"
     ]
    }
   ],
   "source": [
    "#3. Exercício: Substituir os valores NaN de uma coluna por 0.\n",
    "df['Salário'].fillna(0,inplace=True)\n",
    "print(df)"
   ]
  },
  {
   "cell_type": "code",
   "execution_count": 41,
   "metadata": {},
   "outputs": [
    {
     "name": "stdout",
     "output_type": "stream",
     "text": [
      "      Nome  Idade          Cidade  Salário\n",
      "0     João   28.0       São Paulo   3500.0\n",
      "1    Maria   27.0  Rio de Janeiro   4500.0\n",
      "2     José   35.0             NaN      0.0\n",
      "3      Ana   22.0        Salvador   5000.0\n",
      "4    Pedro   27.0    Porto Alegre   4800.0\n",
      "5      Ana   22.0        Salvador   5000.0\n",
      "6  Jessica   20.0      são paulo    3410.0\n",
      "7   Carlos   35.0    porto alegre   2500.0\n"
     ]
    },
    {
     "name": "stderr",
     "output_type": "stream",
     "text": [
      "C:\\Users\\45014141897\\AppData\\Local\\Temp\\ipykernel_23368\\3112492151.py:3: FutureWarning: A value is trying to be set on a copy of a DataFrame or Series through chained assignment using an inplace method.\n",
      "The behavior will change in pandas 3.0. This inplace method will never work because the intermediate object on which we are setting values always behaves as a copy.\n",
      "\n",
      "For example, when doing 'df[col].method(value, inplace=True)', try using 'df.method({col: value}, inplace=True)' or df[col] = df[col].method(value) instead, to perform the operation inplace on the original object.\n",
      "\n",
      "\n",
      "  df['Idade'].fillna(df['Idade'].mean(), inplace=True)\n"
     ]
    }
   ],
   "source": [
    "# 4. Exercício: Substituir os valores NaN de uma coluna por um valor específico\n",
    "#(por exemplo, a média).\n",
    "df['Idade'].fillna(df['Idade'].mean(), inplace=True)\n",
    "print(df)"
   ]
  },
  {
   "cell_type": "code",
   "execution_count": 57,
   "metadata": {},
   "outputs": [
    {
     "name": "stdout",
     "output_type": "stream",
     "text": [
      "      Nome  Idade          Cidade  Salário\n",
      "0     João   28.0       são paulo   3500.0\n",
      "1    Maria   27.0  rio de janeiro   4500.0\n",
      "2     José   35.0  rio de janeiro      0.0\n",
      "3      Ana   22.0        salvador   5000.0\n",
      "4    Pedro   27.0    porto alegre   4800.0\n",
      "6  Jessica   20.0       são paulo   3410.0\n",
      "7   Carlos   35.0    porto alegre   2500.0\n"
     ]
    }
   ],
   "source": [
    "#5. Exercício: Remover todas as linhas que contêm valores NaN em qualquer coluna\n",
    "df_sem_nulos = df.dropna()\n",
    "print(df_sem_nulos)"
   ]
  },
  {
   "cell_type": "code",
   "execution_count": 43,
   "metadata": {},
   "outputs": [
    {
     "name": "stdout",
     "output_type": "stream",
     "text": [
      "      Nome  Idade          Cidade  Salário\n",
      "0     João   28.0       São Paulo   3500.0\n",
      "1    Maria   27.0  Rio de Janeiro   4500.0\n",
      "3      Ana   22.0        Salvador   5000.0\n",
      "4    Pedro   27.0    Porto Alegre   4800.0\n",
      "5      Ana   22.0        Salvador   5000.0\n",
      "6  Jessica   20.0      são paulo    3410.0\n",
      "7   Carlos   35.0    porto alegre   2500.0\n"
     ]
    }
   ],
   "source": [
    "# 6. Exercício: Remover todas as linhas que contêm valores NaN em uma coluna específica.\n",
    "df_limpo_cidade = df.dropna(subset=['Cidade'])\n",
    "print(df_limpo_cidade)"
   ]
  },
  {
   "cell_type": "code",
   "execution_count": 56,
   "metadata": {},
   "outputs": [
    {
     "name": "stdout",
     "output_type": "stream",
     "text": [
      "27.0\n",
      "      Nome  Idade          Cidade  Salário\n",
      "0     João   28.0       são paulo   3500.0\n",
      "1    Maria   27.0  rio de janeiro   4500.0\n",
      "2     José   35.0  rio de janeiro      0.0\n",
      "3      Ana   22.0        salvador   5000.0\n",
      "4    Pedro   27.0    porto alegre   4800.0\n",
      "6  Jessica   20.0       são paulo   3410.0\n",
      "7   Carlos   35.0    porto alegre   2500.0\n"
     ]
    }
   ],
   "source": [
    "# 7. Exercício: Substituir valores NaN de uma coluna com a mediana dessa coluna.\n",
    "mediana_idade = df['Idade'].median()\n",
    "df['Idade'] = df['Idade'].fillna(mediana_idade)\n",
    "\n",
    "print(mediana_idade)\n",
    "print(df)\n"
   ]
  },
  {
   "cell_type": "code",
   "execution_count": 55,
   "metadata": {},
   "outputs": [
    {
     "name": "stdout",
     "output_type": "stream",
     "text": [
      "      Nome  Idade          Cidade  Salário\n",
      "0     João   28.0       são paulo   3500.0\n",
      "1    Maria   27.0  rio de janeiro   4500.0\n",
      "2     José   35.0  rio de janeiro      0.0\n",
      "3      Ana   22.0        salvador   5000.0\n",
      "4    Pedro   27.0    porto alegre   4800.0\n",
      "6  Jessica   20.0       são paulo   3410.0\n",
      "7   Carlos   35.0    porto alegre   2500.0\n"
     ]
    }
   ],
   "source": [
    "# 8. Exercício: Substituir valores NaN de uma coluna com o valor de uma outra coluna.\n",
    "df['Idade'] = df['Idade'].fillna(df['Salário'])\n",
    "\n",
    "print(df)"
   ]
  },
  {
   "cell_type": "code",
   "execution_count": 46,
   "metadata": {},
   "outputs": [
    {
     "name": "stdout",
     "output_type": "stream",
     "text": [
      "      Nome  Idade          Cidade  Salário\n",
      "0     João   28.0       São Paulo   3500.0\n",
      "1    Maria   27.0  Rio de Janeiro   4500.0\n",
      "2     José   35.0  Rio de Janeiro      0.0\n",
      "3      Ana   22.0        Salvador   5000.0\n",
      "4    Pedro   27.0    Porto Alegre   4800.0\n",
      "5      Ana   22.0        Salvador   5000.0\n",
      "6  Jessica   20.0      são paulo    3410.0\n",
      "7   Carlos   35.0    porto alegre   2500.0\n"
     ]
    }
   ],
   "source": [
    "# 9. Exercício: Preencher valores NaN com o valor anterior (método de \"forward fill\").\n",
    "# df['Cidade'] = df['Cidade'].ffill()\n",
    "# print(df)"
   ]
  },
  {
   "cell_type": "code",
   "execution_count": 53,
   "metadata": {},
   "outputs": [
    {
     "name": "stdout",
     "output_type": "stream",
     "text": [
      "      Nome  Idade          Cidade  Salário\n",
      "0     João   28.0       são paulo   3500.0\n",
      "1    Maria   27.0  rio de janeiro   4500.0\n",
      "2     José   35.0  rio de janeiro      0.0\n",
      "3      Ana   22.0        salvador   5000.0\n",
      "4    Pedro   27.0    porto alegre   4800.0\n",
      "6  Jessica   20.0       são paulo   3410.0\n",
      "7   Carlos   35.0    porto alegre   2500.0\n"
     ]
    }
   ],
   "source": [
    "df['Idade'] = df['Idade'].fillna(df['Salário'])\n",
    "\n",
    "print(df)"
   ]
  },
  {
   "cell_type": "code",
   "execution_count": 54,
   "metadata": {},
   "outputs": [
    {
     "name": "stdout",
     "output_type": "stream",
     "text": [
      "      Nome  Idade          Cidade  Salário\n",
      "0     João   28.0       são paulo   3500.0\n",
      "1    Maria   27.0  rio de janeiro   4500.0\n",
      "2     José   35.0  rio de janeiro      0.0\n",
      "3      Ana   22.0        salvador   5000.0\n",
      "4    Pedro   27.0    porto alegre   4800.0\n",
      "6  Jessica   20.0       são paulo   3410.0\n",
      "7   Carlos   35.0    porto alegre   2500.0\n"
     ]
    }
   ],
   "source": [
    "# 10. Exercício: Preencher valores NaN com o valor posterior (método de \"backward fill\").\n",
    "df['Cidade'] = df['Cidade'].bfill()\n",
    "print(df)"
   ]
  },
  {
   "cell_type": "code",
   "execution_count": 48,
   "metadata": {},
   "outputs": [
    {
     "name": "stdout",
     "output_type": "stream",
     "text": [
      "      Nome  Idade          Cidade  Salário\n",
      "0     João   28.0       São Paulo   3500.0\n",
      "1    Maria   27.0  Rio De Janeiro   4500.0\n",
      "2     José   35.0  Rio De Janeiro      0.0\n",
      "3      Ana   22.0        Salvador   5000.0\n",
      "4    Pedro   27.0    Porto Alegre   4800.0\n",
      "5      Ana   22.0        Salvador   5000.0\n",
      "6  Jessica   20.0      São Paulo    3410.0\n",
      "7   Carlos   35.0    Porto Alegre   2500.0\n"
     ]
    }
   ],
   "source": [
    "# 11. Exercício: Alterar todos os valores de uma coluna para maiúsculas.\n",
    "df['Cidade'] = df['Cidade'].str.title() \n",
    "print(df)"
   ]
  },
  {
   "cell_type": "code",
   "execution_count": 49,
   "metadata": {},
   "outputs": [
    {
     "name": "stdout",
     "output_type": "stream",
     "text": [
      "      Nome  Idade          Cidade  Salário\n",
      "0     João   28.0       são paulo   3500.0\n",
      "1    Maria   27.0  rio de janeiro   4500.0\n",
      "2     José   35.0  rio de janeiro      0.0\n",
      "3      Ana   22.0        salvador   5000.0\n",
      "4    Pedro   27.0    porto alegre   4800.0\n",
      "5      Ana   22.0        salvador   5000.0\n",
      "6  Jessica   20.0      são paulo    3410.0\n",
      "7   Carlos   35.0    porto alegre   2500.0\n"
     ]
    }
   ],
   "source": [
    "# 12. Exercício: Alterar todos os valores de uma coluna para minúsculas.\n",
    "df['Cidade'] = df['Cidade'].str.lower() \n",
    "print(df)"
   ]
  },
  {
   "cell_type": "code",
   "execution_count": 50,
   "metadata": {},
   "outputs": [
    {
     "name": "stdout",
     "output_type": "stream",
     "text": [
      "      Nome  Idade          Cidade  Salário\n",
      "0     João   28.0       são paulo   3500.0\n",
      "1    Maria   27.0  rio de janeiro   4500.0\n",
      "2     José   35.0  rio de janeiro      0.0\n",
      "3      Ana   22.0        salvador   5000.0\n",
      "4    Pedro   27.0    porto alegre   4800.0\n",
      "5      Ana   22.0        salvador   5000.0\n",
      "6  Jessica   20.0       são paulo   3410.0\n",
      "7   Carlos   35.0    porto alegre   2500.0\n"
     ]
    }
   ],
   "source": [
    "# 13. Exercício: Remover espaços em branco à esquerda e à direita em uma coluna.\n",
    "df['Cidade'] = df['Cidade'].str.strip() \n",
    "print(df)"
   ]
  },
  {
   "cell_type": "code",
   "execution_count": 51,
   "metadata": {},
   "outputs": [
    {
     "name": "stdout",
     "output_type": "stream",
     "text": [
      "      Nome  Idade          Cidade  Salário\n",
      "0     João   28.0       são paulo   3500.0\n",
      "1    Maria   27.0  rio de janeiro   4500.0\n",
      "2     José   35.0  rio de janeiro      0.0\n",
      "3      Ana   22.0        salvador   5000.0\n",
      "4    Pedro   27.0    porto alegre   4800.0\n",
      "5      Ana   22.0        salvador   5000.0\n",
      "6  Jessica   20.0       são paulo   3410.0\n",
      "7   Carlos   35.0    porto alegre   2500.0\n"
     ]
    }
   ],
   "source": [
    "#14. Exercício: Substituir valores de uma coluna com base em um dicionário de mapeamento (ex: \"São Paulo\" para \"SP\".)\n",
    "df['Cidade'].str.lower().replace({'são paulo': 'SP', 'rio de janeiro': 'RJ', 'porto alegre': 'PA'})\n",
    "print(df)"
   ]
  },
  {
   "cell_type": "code",
   "execution_count": 52,
   "metadata": {},
   "outputs": [
    {
     "name": "stdout",
     "output_type": "stream",
     "text": [
      "      Nome  Idade          Cidade  Salário\n",
      "0     João   28.0       são paulo   3500.0\n",
      "1    Maria   27.0  rio de janeiro   4500.0\n",
      "2     José   35.0  rio de janeiro      0.0\n",
      "3      Ana   22.0        salvador   5000.0\n",
      "4    Pedro   27.0    porto alegre   4800.0\n",
      "6  Jessica   20.0       são paulo   3410.0\n",
      "7   Carlos   35.0    porto alegre   2500.0\n"
     ]
    }
   ],
   "source": [
    "# 15. Exercício: Identificar e remover valores duplicados de um DataFrame.\n",
    "df = df.drop_duplicates(subset=['Nome'])\n",
    "print(df)"
   ]
  }
 ],
 "metadata": {
  "kernelspec": {
   "display_name": "Python 3",
   "language": "python",
   "name": "python3"
  },
  "language_info": {
   "codemirror_mode": {
    "name": "ipython",
    "version": 3
   },
   "file_extension": ".py",
   "mimetype": "text/x-python",
   "name": "python",
   "nbconvert_exporter": "python",
   "pygments_lexer": "ipython3",
   "version": "3.12.1"
  }
 },
 "nbformat": 4,
 "nbformat_minor": 2
}
