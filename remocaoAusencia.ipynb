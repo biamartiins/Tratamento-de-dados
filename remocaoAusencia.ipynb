{
 "cells": [
  {
   "cell_type": "code",
   "execution_count": null,
   "metadata": {},
   "outputs": [],
   "source": [
    "import pandas as pd \n",
    "\n",
    "# 1. Carregar os dados do arquivo \n",
    "\n",
    "df = pd.read_excel('dados_ausentes.xlsx')\n",
    "print(df)\n"
   ]
  },
  {
   "cell_type": "code",
   "execution_count": null,
   "metadata": {},
   "outputs": [],
   "source": [
    "# Verificar se tem dados faltando (aparece TRUE onde está faltando)\n",
    "print(df.isnull ()) \n"
   ]
  },
  {
   "cell_type": "code",
   "execution_count": null,
   "metadata": {},
   "outputs": [],
   "source": [
    "# Contar  os valores ausentes \n",
    "print(df.isnull().sum())"
   ]
  },
  {
   "cell_type": "code",
   "execution_count": null,
   "metadata": {},
   "outputs": [],
   "source": [
    "# Excluir as linhas com dados ausentes \n",
    "df_sem_nulos = df.dropna()\n",
    "print(df_sem_nulos)"
   ]
  },
  {
   "cell_type": "code",
   "execution_count": null,
   "metadata": {},
   "outputs": [],
   "source": [
    "# Substituir dados ausentes \n",
    "# Cidades ficam como desconhecidas \n",
    "\n",
    "df['Cidade'].fillna('Desconhecido', inplace=True) # fillna('Desconhecido') - Isso é como vai ficar substituido\n",
    "print(df) "
   ]
  },
  {
   "cell_type": "code",
   "execution_count": null,
   "metadata": {},
   "outputs": [],
   "source": [
    "# Substituir dados ausentes \n",
    "# Substituir 'Salário' por 0\n",
    "df['Salário'].fillna(0, inplace=True) # fillna('Desconhecido') - Isso é como vai ficar substituido\n",
    "print(df)"
   ]
  },
  {
   "cell_type": "code",
   "execution_count": null,
   "metadata": {},
   "outputs": [],
   "source": [
    "# Substituir dados ausentes \n",
    "# Substituir 'Idade' pela média \n",
    "\n",
    "df['Idade'].fillna(df['Idade'].mean(), inplace=True)\n",
    "print(df)"
   ]
  }
 ],
 "metadata": {
  "kernelspec": {
   "display_name": "Python 3",
   "language": "python",
   "name": "python3"
  },
  "language_info": {
   "codemirror_mode": {
    "name": "ipython",
    "version": 3
   },
   "file_extension": ".py",
   "mimetype": "text/x-python",
   "name": "python",
   "nbconvert_exporter": "python",
   "pygments_lexer": "ipython3",
   "version": "3.12.1"
  }
 },
 "nbformat": 4,
 "nbformat_minor": 2
}
