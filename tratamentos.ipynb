{
 "cells": [
  {
   "cell_type": "code",
   "execution_count": null,
   "metadata": {},
   "outputs": [],
   "source": [
    "import pandas as pd\n",
    "\n",
    "df = pd.read_excel('dados_ausentes.xlsx')\n",
    "print(df)"
   ]
  },
  {
   "cell_type": "code",
   "execution_count": null,
   "metadata": {},
   "outputs": [],
   "source": [
    "# Corrigir erros de formtação (maiuscula, minuscula) \n",
    "\n",
    "df['Cidade'] = df['Cidade'].str.title() # Title substitui todas as letras da frase por maiusculas\n",
    "print(df)"
   ]
  },
  {
   "cell_type": "code",
   "execution_count": null,
   "metadata": {},
   "outputs": [],
   "source": [
    "# Corrigir erros de formtação (maiuscula, minuscula) \n",
    "\n",
    "df['Cidade'] = df['Cidade'].str.capitalize() # Capitalize substitui apenas a primeira letra da frase por maiusculas\n",
    "print(df)"
   ]
  },
  {
   "cell_type": "code",
   "execution_count": null,
   "metadata": {},
   "outputs": [],
   "source": [
    "# Substituição de valores categoricos: sao paulo, sp , rj\n",
    "df['Cidade'].str.lower().replace({'são paulo': 'SP', 'rio de janeiro': 'RJ','rj': 'RJ'})\n",
    "print(df)"
   ]
  },
  {
   "cell_type": "code",
   "execution_count": null,
   "metadata": {},
   "outputs": [],
   "source": [
    "#identificar os tipos de dados das colunas - string\n",
    "coluna_string = df.select_dtypes(include=['string','object']).columns.to_list()\n",
    "print(coluna_string)"
   ]
  },
  {
   "cell_type": "code",
   "execution_count": null,
   "metadata": {},
   "outputs": [],
   "source": [
    "#identificar os tipos de dados das colunas - float\n",
    "coluna_float = df.select_dtypes(include=['float']).columns.to_list()\n",
    "print(coluna_float)"
   ]
  },
  {
   "cell_type": "code",
   "execution_count": null,
   "metadata": {},
   "outputs": [],
   "source": [
    "# Substituir idades ausentes pela media\n",
    "\n",
    "df['Idade'].fillna(df['Idade'].mean(),inplace=True)\n",
    "print(df)"
   ]
  },
  {
   "cell_type": "code",
   "execution_count": null,
   "metadata": {},
   "outputs": [],
   "source": [
    "# Converter os dados da idade para Int\n",
    "df['Idade']=df['Idade'].astype(int)\n",
    "print(df)"
   ]
  },
  {
   "cell_type": "code",
   "execution_count": null,
   "metadata": {},
   "outputs": [],
   "source": [
    "#Pega o valor de cima\n",
    "df['Idade']=df['Idade'].ffill()\n",
    "\n",
    "# Pega o valor de baixo\n",
    "df['Idade']=df['Idade'].bfill()"
   ]
  },
  {
   "cell_type": "code",
   "execution_count": null,
   "metadata": {},
   "outputs": [],
   "source": [
    "# Criar uma nova coluna: Faixa Etária \n",
    "\n",
    "df['Faixa Etária'] = pd.cut(df['Idade'], bins=[0,18,30,50,100], labels=['Jovem', 'Adulto', 'Meia-Idade', 'Idoso'])\n",
    "print(df)"
   ]
  },
  {
   "cell_type": "code",
   "execution_count": null,
   "metadata": {},
   "outputs": [],
   "source": [
    "# Remover duplicados \n",
    "\n",
    "df = df.drop_duplicates(subset=['Nome'])\n",
    "print(df)"
   ]
  },
  {
   "cell_type": "code",
   "execution_count": null,
   "metadata": {},
   "outputs": [],
   "source": [
    "df.to_excel(\"dados_tratados.xlsx\", index=False )\n",
    " "
   ]
  }
 ],
 "metadata": {
  "kernelspec": {
   "display_name": "Python 3",
   "language": "python",
   "name": "python3"
  },
  "language_info": {
   "codemirror_mode": {
    "name": "ipython",
    "version": 3
   },
   "file_extension": ".py",
   "mimetype": "text/x-python",
   "name": "python",
   "nbconvert_exporter": "python",
   "pygments_lexer": "ipython3",
   "version": "3.12.1"
  }
 },
 "nbformat": 4,
 "nbformat_minor": 2
}
